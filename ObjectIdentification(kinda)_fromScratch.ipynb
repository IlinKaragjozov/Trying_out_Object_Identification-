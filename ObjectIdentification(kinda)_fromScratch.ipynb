{
 "cells": [
  {
   "cell_type": "code",
   "execution_count": 1,
   "id": "98b1bd38",
   "metadata": {},
   "outputs": [],
   "source": [
    "from PIL import Image\n",
    "import os\n",
    "import numpy as np\n",
    "import cv2 as cv\n",
    "import tensorflow as tf\n",
    "from matplotlib import pyplot as plt"
   ]
  },
  {
   "cell_type": "markdown",
   "id": "178e6704",
   "metadata": {},
   "source": [
    "My idea was that since a multi object detection CNN is quite complicated, I'd try the next best thing. Namely split the image in several smaller sections and estimate how much roof area is contained within each square, since if the goal is to build solar cells, we don't need to just know where the roofs are, but also how much potential roof area is available."
   ]
  },
  {
   "cell_type": "code",
   "execution_count": 2,
   "id": "e562bb89",
   "metadata": {},
   "outputs": [],
   "source": [
    "img_path='C:/Users/Ilin/OneDrive/Desktop/Fun Stuff/dida Test/images/'#put folder path for images here\n",
    "lbl_path='C:/Users/Ilin/OneDrive/Desktop/Fun Stuff/dida Test/labels/'"
   ]
  },
  {
   "cell_type": "markdown",
   "id": "5b0145e9",
   "metadata": {},
   "source": [
    "These functions are here to split an image into several squares, and estimate the area within each (I will use the pixels in the label images as non-zero areas)."
   ]
  },
  {
   "cell_type": "code",
   "execution_count": 19,
   "id": "2f845892",
   "metadata": {},
   "outputs": [],
   "source": [
    "\n",
    "\n",
    "def even_split(arr, splits):\n",
    "    '''Splits array into splits x splits squares'''\n",
    "    vert_split=np.vsplit(arr, splits)\n",
    "    chunks=[]\n",
    "    for i in vert_split:\n",
    "        chunks.extend(np.hsplit(i, splits))\n",
    "        \n",
    "    return chunks\n",
    "\n",
    "def square_areas(arr):\n",
    "    '''Calculates the \"area\" in each square '''\n",
    "    area=[]\n",
    "    for i in arr:\n",
    "        summon=np.sum(i)\n",
    "        area.append(summon)\n",
    "        \n",
    "    return np.asarray(area)\n",
    "    "
   ]
  },
  {
   "cell_type": "code",
   "execution_count": 20,
   "id": "d4735c5d",
   "metadata": {},
   "outputs": [],
   "source": [
    "\n",
    "#just to make everything tidier for ease of access to the files later on\n",
    "def list_image_files(image_path, label_path, split_percentage = [70, 30]):\n",
    "    '''Divides images in folder into training, validation and the end test files'''\n",
    "    \n",
    "    imlst=os.listdir(image_path)\n",
    "    img_num=len(imlst)\n",
    "\n",
    "    lblst=os.listdir(label_path)\n",
    "    lbl_num=len(lblst)\n",
    "    imglbl_diff=img_num-lbl_num\n",
    "\n",
    "    files = imlst[:-(imglbl_diff)]\n",
    "    test_set=imlst[-(imglbl_diff):]\n",
    "\n",
    "    split_training = int(split_percentage[0] * lbl_num / 100)\n",
    "    \n",
    "\n",
    "    return files[0:split_training], files[split_training:], test_set"
   ]
  },
  {
   "cell_type": "code",
   "execution_count": 21,
   "id": "fc693794",
   "metadata": {},
   "outputs": [],
   "source": [
    "#sorting everything in a way that is readable to tensorflow\n",
    "def data_load(files, image_path, label_path):\n",
    "    '''Converts data into readable format for TensorFlow, as well as create labels.'''\n",
    "    img_num=len(files)\n",
    "    X = []\n",
    "    Y = []\n",
    "    \n",
    "    for file in files:\n",
    "        img=cv.imread(image_path+file, cv.IMREAD_GRAYSCALE)/255\n",
    "        #I've added a ceiling function to make all the non-zero pixels i.e. where there is a roof, into 1s to make things more convenient\n",
    "        lbl=np.ceil(cv.imread(label_path+file, cv.IMREAD_GRAYSCALE)/255)\n",
    "        labels=square_areas(even_split(lbl, 8))\n",
    "        X.append(img)\n",
    "        #I couldn't think of a clever way to reduce the number of features in the output layer, I'd actually apreciate some advice on that topic\n",
    "        Y.append(labels)\n",
    "        \n",
    "    X=np.array(X)\n",
    "\n",
    "\n",
    "    X = tf.convert_to_tensor(X, dtype=tf.float32)\n",
    "\n",
    "    Y = tf.convert_to_tensor(Y, dtype=tf.float32)\n",
    "\n",
    "    result = tf.data.Dataset.from_tensor_slices((X, Y))\n",
    "\n",
    "    return result\n"
   ]
  },
  {
   "cell_type": "code",
   "execution_count": 6,
   "id": "71671fa9",
   "metadata": {},
   "outputs": [],
   "source": [
    "train_f, validation_f, testing= list_image_files(img_path, lbl_path)"
   ]
  },
  {
   "cell_type": "code",
   "execution_count": 7,
   "id": "f8f01ada",
   "metadata": {},
   "outputs": [],
   "source": [
    "raw_train=data_load(train_f, img_path, lbl_path)\n",
    "raw_val=data_load(validation_f, img_path, lbl_path)"
   ]
  },
  {
   "cell_type": "code",
   "execution_count": 8,
   "id": "85f5ded7",
   "metadata": {},
   "outputs": [
    {
     "data": {
      "text/plain": [
       "<_TensorSliceDataset element_spec=(TensorSpec(shape=(256, 256), dtype=tf.float32, name=None), TensorSpec(shape=(64,), dtype=tf.float32, name=None))>"
      ]
     },
     "execution_count": 8,
     "metadata": {},
     "output_type": "execute_result"
    }
   ],
   "source": [
    "raw_train"
   ]
  },
  {
   "cell_type": "markdown",
   "id": "43a171eb",
   "metadata": {},
   "source": [
    "Tensorflow recommended optimisation stuff."
   ]
  },
  {
   "cell_type": "code",
   "execution_count": 9,
   "id": "3e665f11",
   "metadata": {},
   "outputs": [],
   "source": [
    "def format_instance(image, label):\n",
    "    return image, ([label[0], label[1], label[2], label[3], label[4], label[5], label[6], label[7], label[8], label[9], label[10], label[11], label[12], label[13], label[14], label[15], label[16], label[17], label[18], label[19], label[20], label[21], label[22], label[23], label[24], label[25], label[26], label[27], label[28], label[29], label[30], label[31], label[32], label[33], label[34], label[35], label[36], label[37], label[38], label[39], label[40], label[41], label[42], label[43], label[44], label[45], label[46], label[47], label[48], label[49], label[50], label[51], label[52], label[53], label[54], label[55], label[56], label[57], label[58], label[59], label[60], label[61], label[62], label[63]])\n",
    "\n"
   ]
  },
  {
   "cell_type": "code",
   "execution_count": 10,
   "id": "a7cd21c4",
   "metadata": {},
   "outputs": [],
   "source": [
    "BATCH_SIZE = 64\n",
    "\n",
    "\n",
    "\n",
    "def tune_training_ds(dataset):\n",
    "    dataset = dataset.map(format_instance, num_parallel_calls=tf.data.AUTOTUNE)\n",
    "    dataset = dataset.shuffle(1024, reshuffle_each_iteration=True)\n",
    "   # dataset = dataset.repeat() # The dataset be repeated indefinitely.\n",
    "    dataset = dataset.batch(BATCH_SIZE)\n",
    "    dataset = dataset.prefetch(tf.data.AUTOTUNE)\n",
    "    return dataset\n"
   ]
  },
  {
   "cell_type": "code",
   "execution_count": 11,
   "id": "d71245b7",
   "metadata": {},
   "outputs": [],
   "source": [
    "def tune_validation_ds(dataset):\n",
    "    dataset = dataset.map(format_instance, num_parallel_calls=tf.data.AUTOTUNE)\n",
    "    dataset = dataset.batch(len(validation_f) // 4)\n",
    "    dataset = dataset.repeat()\n",
    "    return dataset\n"
   ]
  },
  {
   "cell_type": "code",
   "execution_count": 12,
   "id": "fcf993bc",
   "metadata": {},
   "outputs": [],
   "source": [
    "train_ds = tune_training_ds(raw_train)"
   ]
  },
  {
   "cell_type": "code",
   "execution_count": 13,
   "id": "001d6569",
   "metadata": {},
   "outputs": [],
   "source": [
    "validation_ds = tune_validation_ds(raw_val)"
   ]
  },
  {
   "cell_type": "markdown",
   "id": "079f1acf",
   "metadata": {},
   "source": [
    "Finnally the fun part, the actuall CNN. I didn't experiment too much with the architecture here, just found a simple example architecture online and used it, though I would like to experiment with the architecture to see how much it impacts the end result. I followed the Tensorflow API format in creating the network."
   ]
  },
  {
   "cell_type": "code",
   "execution_count": 14,
   "id": "143e2933",
   "metadata": {},
   "outputs": [
    {
     "name": "stdout",
     "output_type": "stream",
     "text": [
      "Model: \"OBJ_ID_scratch\"\n",
      "_________________________________________________________________\n",
      " Layer (type)                Output Shape              Param #   \n",
      "=================================================================\n",
      " input_1 (InputLayer)        [(None, 256, 256, 1)]     0         \n",
      "                                                                 \n",
      " conv2d (Conv2D)             (None, 254, 254, 16)      160       \n",
      "                                                                 \n",
      " average_pooling2d (AverageP  (None, 127, 127, 16)     0         \n",
      " ooling2D)                                                       \n",
      "                                                                 \n",
      " conv2d_1 (Conv2D)           (None, 125, 125, 32)      4640      \n",
      "                                                                 \n",
      " average_pooling2d_1 (Averag  (None, 62, 62, 32)       0         \n",
      " ePooling2D)                                                     \n",
      "                                                                 \n",
      " conv2d_2 (Conv2D)           (None, 60, 60, 64)        18496     \n",
      "                                                                 \n",
      " average_pooling2d_2 (Averag  (None, 30, 30, 64)       0         \n",
      " ePooling2D)                                                     \n",
      "                                                                 \n",
      " flatten (Flatten)           (None, 57600)             0         \n",
      "                                                                 \n",
      " dense (Dense)               (None, 128)               7372928   \n",
      "                                                                 \n",
      " dense_1 (Dense)             (None, 64)                8256      \n",
      "                                                                 \n",
      "=================================================================\n",
      "Total params: 7,404,480\n",
      "Trainable params: 7,404,480\n",
      "Non-trainable params: 0\n",
      "_________________________________________________________________\n"
     ]
    }
   ],
   "source": [
    "inputs=tf.keras.layers.Input(shape=(256, 256, 1))\n",
    "\n",
    "x = tf.keras.layers.Conv2D(16, kernel_size=3, activation='relu', input_shape=(256, 256, 1))(inputs)\n",
    "x = tf.keras.layers.AveragePooling2D(2,2)(x)\n",
    "\n",
    "x = tf.keras.layers.Conv2D(32, kernel_size=3, activation = 'relu')(x)\n",
    "x = tf.keras.layers.AveragePooling2D(2,2)(x)\n",
    "\n",
    "x = tf.keras.layers.Conv2D(64, kernel_size=3, activation = 'relu')(x)\n",
    "x = tf.keras.layers.AveragePooling2D(2,2)(x)\n",
    "\n",
    "x = tf.keras.layers.Flatten()(x)\n",
    "x = tf.keras.layers.Dense(128, activation='relu')(x)\n",
    "\n",
    "outputs = tf.keras.layers.Dense(units = '64')(x)\n",
    "\n",
    "model = tf.keras.Model(inputs=inputs, outputs=outputs, name=\"OBJ_ID_scratch\")\n",
    "    \n",
    "model.compile(optimizer=tf.keras.optimizers.Adam(), loss=tf.keras.losses.MeanSquaredError(),metrics=tf.keras.metrics.MeanSquaredError())\n",
    "\n",
    "\n",
    "\n",
    "model.summary()"
   ]
  },
  {
   "cell_type": "code",
   "execution_count": 15,
   "id": "1a0bf873",
   "metadata": {},
   "outputs": [
    {
     "name": "stdout",
     "output_type": "stream",
     "text": [
      "Epoch 1/100\n",
      "1/1 [==============================] - 4s 4s/step - loss: 126263.7344 - mean_squared_error: 126263.7344 - val_loss: 97957.6250 - val_mean_squared_error: 97957.6250\n",
      "Epoch 2/100\n",
      "1/1 [==============================] - 1s 993ms/step - loss: 126214.9297 - mean_squared_error: 126214.9297 - val_loss: 97873.9219 - val_mean_squared_error: 97873.9219\n",
      "Epoch 3/100\n",
      "1/1 [==============================] - 1s 991ms/step - loss: 126108.5000 - mean_squared_error: 126108.5000 - val_loss: 97710.6953 - val_mean_squared_error: 97710.6953\n",
      "Epoch 4/100\n",
      "1/1 [==============================] - 1s 1s/step - loss: 125900.8125 - mean_squared_error: 125900.8125 - val_loss: 97433.8125 - val_mean_squared_error: 97433.8125\n",
      "Epoch 5/100\n",
      "1/1 [==============================] - 1s 1s/step - loss: 125544.1797 - mean_squared_error: 125544.1797 - val_loss: 96997.5547 - val_mean_squared_error: 96997.5547\n",
      "Epoch 6/100\n",
      "1/1 [==============================] - 1s 982ms/step - loss: 124979.7656 - mean_squared_error: 124979.7656 - val_loss: 96343.0469 - val_mean_squared_error: 96343.0469\n",
      "Epoch 7/100\n",
      "1/1 [==============================] - 1s 998ms/step - loss: 124121.8516 - mean_squared_error: 124121.8516 - val_loss: 95397.8828 - val_mean_squared_error: 95397.8828\n",
      "Epoch 8/100\n",
      "1/1 [==============================] - 1s 936ms/step - loss: 122872.3984 - mean_squared_error: 122872.3984 - val_loss: 94076.5859 - val_mean_squared_error: 94076.5859\n",
      "Epoch 9/100\n",
      "1/1 [==============================] - 1s 1s/step - loss: 121106.0625 - mean_squared_error: 121106.0625 - val_loss: 92293.4609 - val_mean_squared_error: 92293.4609\n",
      "Epoch 10/100\n",
      "1/1 [==============================] - 1s 979ms/step - loss: 118688.2422 - mean_squared_error: 118688.2422 - val_loss: 89980.5625 - val_mean_squared_error: 89980.5625\n",
      "Epoch 11/100\n",
      "1/1 [==============================] - 1s 984ms/step - loss: 115489.3984 - mean_squared_error: 115489.3984 - val_loss: 87135.1250 - val_mean_squared_error: 87135.1250\n",
      "Epoch 12/100\n",
      "1/1 [==============================] - 1s 1s/step - loss: 111428.6250 - mean_squared_error: 111428.6250 - val_loss: 83891.8203 - val_mean_squared_error: 83891.8203\n",
      "Epoch 13/100\n",
      "1/1 [==============================] - 1s 947ms/step - loss: 106552.6094 - mean_squared_error: 106552.6094 - val_loss: 80669.8125 - val_mean_squared_error: 80669.8125\n",
      "Epoch 14/100\n",
      "1/1 [==============================] - 1s 974ms/step - loss: 101179.7422 - mean_squared_error: 101179.7422 - val_loss: 78398.8750 - val_mean_squared_error: 78398.8750\n",
      "Epoch 15/100\n",
      "1/1 [==============================] - 1s 1s/step - loss: 96146.5859 - mean_squared_error: 96146.5859 - val_loss: 78627.9062 - val_mean_squared_error: 78627.9062\n",
      "Epoch 16/100\n",
      "1/1 [==============================] - 1s 974ms/step - loss: 93030.7734 - mean_squared_error: 93030.7734 - val_loss: 82307.9688 - val_mean_squared_error: 82307.9688\n",
      "Epoch 17/100\n",
      "1/1 [==============================] - 1s 998ms/step - loss: 93427.9453 - mean_squared_error: 93427.9453 - val_loss: 85064.2109 - val_mean_squared_error: 85064.2109\n",
      "Epoch 18/100\n",
      "1/1 [==============================] - 1s 1s/step - loss: 94543.3672 - mean_squared_error: 94543.3672 - val_loss: 83096.0078 - val_mean_squared_error: 83096.0078\n",
      "Epoch 19/100\n",
      "1/1 [==============================] - 1s 1s/step - loss: 92718.8672 - mean_squared_error: 92718.8672 - val_loss: 78349.1484 - val_mean_squared_error: 78349.1484\n",
      "Epoch 20/100\n",
      "1/1 [==============================] - 1s 1s/step - loss: 89134.3984 - mean_squared_error: 89134.3984 - val_loss: 73448.5312 - val_mean_squared_error: 73448.5312\n",
      "Epoch 21/100\n",
      "1/1 [==============================] - 1s 1s/step - loss: 85835.8047 - mean_squared_error: 85835.8047 - val_loss: 69752.1406 - val_mean_squared_error: 69752.1406\n",
      "Epoch 22/100\n",
      "1/1 [==============================] - 1s 1s/step - loss: 83791.5625 - mean_squared_error: 83791.5625 - val_loss: 67411.3359 - val_mean_squared_error: 67411.3359\n",
      "Epoch 23/100\n",
      "1/1 [==============================] - 1s 958ms/step - loss: 82905.0391 - mean_squared_error: 82905.0391 - val_loss: 65993.4844 - val_mean_squared_error: 65993.4844\n",
      "Epoch 24/100\n",
      "1/1 [==============================] - 1s 1s/step - loss: 82616.8125 - mean_squared_error: 82616.8125 - val_loss: 65009.7500 - val_mean_squared_error: 65009.7500\n",
      "Epoch 25/100\n",
      "1/1 [==============================] - 1s 1s/step - loss: 82408.6875 - mean_squared_error: 82408.6875 - val_loss: 64153.1797 - val_mean_squared_error: 64153.1797\n",
      "Epoch 26/100\n",
      "1/1 [==============================] - 1s 1s/step - loss: 81999.0781 - mean_squared_error: 81999.0781 - val_loss: 63325.0391 - val_mean_squared_error: 63325.0391\n",
      "Epoch 27/100\n",
      "1/1 [==============================] - 1s 1s/step - loss: 81334.9219 - mean_squared_error: 81334.9219 - val_loss: 62585.5547 - val_mean_squared_error: 62585.5547\n",
      "Epoch 28/100\n",
      "1/1 [==============================] - 1s 1s/step - loss: 80526.9531 - mean_squared_error: 80526.9531 - val_loss: 62085.3281 - val_mean_squared_error: 62085.3281\n",
      "Epoch 29/100\n",
      "1/1 [==============================] - 1s 1s/step - loss: 79779.2891 - mean_squared_error: 79779.2891 - val_loss: 61969.7188 - val_mean_squared_error: 61969.7188\n",
      "Epoch 30/100\n",
      "1/1 [==============================] - 1s 967ms/step - loss: 79299.2031 - mean_squared_error: 79299.2031 - val_loss: 62248.8906 - val_mean_squared_error: 62248.8906\n",
      "Epoch 31/100\n",
      "1/1 [==============================] - 1s 1s/step - loss: 79176.7031 - mean_squared_error: 79176.7031 - val_loss: 62701.4375 - val_mean_squared_error: 62701.4375\n",
      "Epoch 32/100\n",
      "1/1 [==============================] - 1s 1s/step - loss: 79273.6328 - mean_squared_error: 79273.6328 - val_loss: 62966.6133 - val_mean_squared_error: 62966.6133\n",
      "Epoch 33/100\n",
      "1/1 [==============================] - 1s 1s/step - loss: 79301.5312 - mean_squared_error: 79301.5312 - val_loss: 62812.6484 - val_mean_squared_error: 62812.6484\n",
      "Epoch 34/100\n",
      "1/1 [==============================] - 1s 978ms/step - loss: 79064.2031 - mean_squared_error: 79064.2031 - val_loss: 62310.9297 - val_mean_squared_error: 62310.9297\n",
      "Epoch 35/100\n",
      "1/1 [==============================] - 1s 999ms/step - loss: 78621.2500 - mean_squared_error: 78621.2500 - val_loss: 61729.1602 - val_mean_squared_error: 61729.1602\n",
      "Epoch 36/100\n",
      "1/1 [==============================] - 1s 962ms/step - loss: 78192.4531 - mean_squared_error: 78192.4531 - val_loss: 61304.2891 - val_mean_squared_error: 61304.2891\n",
      "Epoch 37/100\n",
      "1/1 [==============================] - 1s 968ms/step - loss: 77945.4453 - mean_squared_error: 77945.4453 - val_loss: 61122.9844 - val_mean_squared_error: 61122.9844\n",
      "Epoch 38/100\n",
      "1/1 [==============================] - 1s 1s/step - loss: 77900.5312 - mean_squared_error: 77900.5312 - val_loss: 61143.9805 - val_mean_squared_error: 61143.9805\n",
      "Epoch 39/100\n",
      "1/1 [==============================] - 1s 1s/step - loss: 77962.8594 - mean_squared_error: 77962.8594 - val_loss: 61282.1914 - val_mean_squared_error: 61282.1914\n",
      "Epoch 40/100\n",
      "1/1 [==============================] - 1s 1s/step - loss: 78012.7422 - mean_squared_error: 78012.7422 - val_loss: 61475.6953 - val_mean_squared_error: 61475.6953\n",
      "Epoch 41/100\n",
      "1/1 [==============================] - 1s 1s/step - loss: 77975.5547 - mean_squared_error: 77975.5547 - val_loss: 61710.8516 - val_mean_squared_error: 61710.8516\n",
      "Epoch 42/100\n",
      "1/1 [==============================] - 1s 961ms/step - loss: 77845.0312 - mean_squared_error: 77845.0312 - val_loss: 62009.9453 - val_mean_squared_error: 62009.9453\n",
      "Epoch 43/100\n",
      "1/1 [==============================] - 1s 912ms/step - loss: 77669.5391 - mean_squared_error: 77669.5391 - val_loss: 62396.6094 - val_mean_squared_error: 62396.6094\n",
      "Epoch 44/100\n",
      "1/1 [==============================] - 1s 995ms/step - loss: 77516.5156 - mean_squared_error: 77516.5156 - val_loss: 62855.9375 - val_mean_squared_error: 62855.9375\n",
      "Epoch 45/100\n",
      "1/1 [==============================] - 1s 961ms/step - loss: 77429.4375 - mean_squared_error: 77429.4375 - val_loss: 63312.2305 - val_mean_squared_error: 63312.2305\n",
      "Epoch 46/100\n",
      "1/1 [==============================] - 1s 930ms/step - loss: 77397.9375 - mean_squared_error: 77397.9375 - val_loss: 63650.6094 - val_mean_squared_error: 63650.6094\n",
      "Epoch 47/100\n"
     ]
    },
    {
     "name": "stdout",
     "output_type": "stream",
     "text": [
      "1/1 [==============================] - 1s 1s/step - loss: 77365.7656 - mean_squared_error: 77365.7656 - val_loss: 63780.4453 - val_mean_squared_error: 63780.4453\n",
      "Epoch 48/100\n",
      "1/1 [==============================] - 1s 929ms/step - loss: 77277.7188 - mean_squared_error: 77277.7188 - val_loss: 63692.5078 - val_mean_squared_error: 63692.5078\n",
      "Epoch 49/100\n",
      "1/1 [==============================] - 1s 1s/step - loss: 77126.0625 - mean_squared_error: 77126.0625 - val_loss: 63458.8242 - val_mean_squared_error: 63458.8242\n",
      "Epoch 50/100\n",
      "1/1 [==============================] - 1s 1s/step - loss: 76951.3984 - mean_squared_error: 76951.3984 - val_loss: 63180.7070 - val_mean_squared_error: 63180.7070\n",
      "Epoch 51/100\n",
      "1/1 [==============================] - 1s 998ms/step - loss: 76801.9922 - mean_squared_error: 76801.9922 - val_loss: 62934.9883 - val_mean_squared_error: 62934.9883\n",
      "Epoch 52/100\n",
      "1/1 [==============================] - 1s 980ms/step - loss: 76695.6406 - mean_squared_error: 76695.6406 - val_loss: 62754.8398 - val_mean_squared_error: 62754.8398\n",
      "Epoch 53/100\n",
      "1/1 [==============================] - 1s 974ms/step - loss: 76614.3125 - mean_squared_error: 76614.3125 - val_loss: 62642.4609 - val_mean_squared_error: 62642.4609\n",
      "Epoch 54/100\n",
      "1/1 [==============================] - 1s 941ms/step - loss: 76525.6719 - mean_squared_error: 76525.6719 - val_loss: 62590.8828 - val_mean_squared_error: 62590.8828\n",
      "Epoch 55/100\n",
      "1/1 [==============================] - 1s 985ms/step - loss: 76408.1406 - mean_squared_error: 76408.1406 - val_loss: 62596.5078 - val_mean_squared_error: 62596.5078\n",
      "Epoch 56/100\n",
      "1/1 [==============================] - 1s 1s/step - loss: 76262.9844 - mean_squared_error: 76262.9844 - val_loss: 62657.0586 - val_mean_squared_error: 62657.0586\n",
      "Epoch 57/100\n",
      "1/1 [==============================] - 1s 993ms/step - loss: 76109.2344 - mean_squared_error: 76109.2344 - val_loss: 62760.2422 - val_mean_squared_error: 62760.2422\n",
      "Epoch 58/100\n",
      "1/1 [==============================] - 1s 1s/step - loss: 75967.5391 - mean_squared_error: 75967.5391 - val_loss: 62874.4727 - val_mean_squared_error: 62874.4727\n",
      "Epoch 59/100\n",
      "1/1 [==============================] - 1s 998ms/step - loss: 75844.0781 - mean_squared_error: 75844.0781 - val_loss: 62953.5000 - val_mean_squared_error: 62953.5000\n",
      "Epoch 60/100\n",
      "1/1 [==============================] - 1s 804ms/step - loss: 75727.2422 - mean_squared_error: 75727.2422 - val_loss: 62953.3086 - val_mean_squared_error: 62953.3086\n",
      "Epoch 61/100\n",
      "1/1 [==============================] - 1s 1s/step - loss: 75595.0781 - mean_squared_error: 75595.0781 - val_loss: 62862.2266 - val_mean_squared_error: 62862.2266\n",
      "Epoch 62/100\n",
      "1/1 [==============================] - 1s 1s/step - loss: 75438.8906 - mean_squared_error: 75438.8906 - val_loss: 62703.8359 - val_mean_squared_error: 62703.8359\n",
      "Epoch 63/100\n",
      "1/1 [==============================] - 1s 1s/step - loss: 75266.0625 - mean_squared_error: 75266.0625 - val_loss: 62521.9531 - val_mean_squared_error: 62521.9531\n",
      "Epoch 64/100\n",
      "1/1 [==============================] - 1s 976ms/step - loss: 75090.7188 - mean_squared_error: 75090.7188 - val_loss: 62360.2812 - val_mean_squared_error: 62360.2812\n",
      "Epoch 65/100\n",
      "1/1 [==============================] - 1s 1s/step - loss: 74919.0078 - mean_squared_error: 74919.0078 - val_loss: 62245.5938 - val_mean_squared_error: 62245.5938\n",
      "Epoch 66/100\n",
      "1/1 [==============================] - 1s 979ms/step - loss: 74744.8516 - mean_squared_error: 74744.8516 - val_loss: 62187.1328 - val_mean_squared_error: 62187.1328\n",
      "Epoch 67/100\n",
      "1/1 [==============================] - 1s 1s/step - loss: 74556.3594 - mean_squared_error: 74556.3594 - val_loss: 62182.6953 - val_mean_squared_error: 62182.6953\n",
      "Epoch 68/100\n",
      "1/1 [==============================] - 1s 1s/step - loss: 74345.6406 - mean_squared_error: 74345.6406 - val_loss: 62222.2305 - val_mean_squared_error: 62222.2305\n",
      "Epoch 69/100\n",
      "1/1 [==============================] - 1s 963ms/step - loss: 74111.9141 - mean_squared_error: 74111.9141 - val_loss: 62294.6250 - val_mean_squared_error: 62294.6250\n",
      "Epoch 70/100\n",
      "1/1 [==============================] - 1s 974ms/step - loss: 73860.3203 - mean_squared_error: 73860.3203 - val_loss: 62378.7773 - val_mean_squared_error: 62378.7773\n",
      "Epoch 71/100\n",
      "1/1 [==============================] - 1s 995ms/step - loss: 73594.9375 - mean_squared_error: 73594.9375 - val_loss: 62446.0781 - val_mean_squared_error: 62446.0781\n",
      "Epoch 72/100\n",
      "1/1 [==============================] - 1s 1s/step - loss: 73313.4297 - mean_squared_error: 73313.4297 - val_loss: 62468.8828 - val_mean_squared_error: 62468.8828\n",
      "Epoch 73/100\n",
      "1/1 [==============================] - 1s 982ms/step - loss: 73009.8750 - mean_squared_error: 73009.8750 - val_loss: 62428.7773 - val_mean_squared_error: 62428.7773\n",
      "Epoch 74/100\n",
      "1/1 [==============================] - 1s 984ms/step - loss: 72680.0156 - mean_squared_error: 72680.0156 - val_loss: 62325.9453 - val_mean_squared_error: 62325.9453\n",
      "Epoch 75/100\n",
      "1/1 [==============================] - 1s 996ms/step - loss: 72319.0234 - mean_squared_error: 72319.0234 - val_loss: 62183.9961 - val_mean_squared_error: 62183.9961\n",
      "Epoch 76/100\n",
      "1/1 [==============================] - 1s 1s/step - loss: 71923.8125 - mean_squared_error: 71923.8125 - val_loss: 62030.4531 - val_mean_squared_error: 62030.4531\n",
      "Epoch 77/100\n",
      "1/1 [==============================] - 1s 1s/step - loss: 71494.4375 - mean_squared_error: 71494.4375 - val_loss: 61887.4219 - val_mean_squared_error: 61887.4219\n",
      "Epoch 78/100\n",
      "1/1 [==============================] - 1s 970ms/step - loss: 71029.7578 - mean_squared_error: 71029.7578 - val_loss: 61773.1680 - val_mean_squared_error: 61773.1680\n",
      "Epoch 79/100\n",
      "1/1 [==============================] - 1s 988ms/step - loss: 70519.3281 - mean_squared_error: 70519.3281 - val_loss: 61697.3672 - val_mean_squared_error: 61697.3672\n",
      "Epoch 80/100\n",
      "1/1 [==============================] - 1s 1s/step - loss: 69955.5156 - mean_squared_error: 69955.5156 - val_loss: 61655.4297 - val_mean_squared_error: 61655.4297\n",
      "Epoch 81/100\n",
      "1/1 [==============================] - 1s 979ms/step - loss: 69326.1562 - mean_squared_error: 69326.1562 - val_loss: 61640.6875 - val_mean_squared_error: 61640.6875\n",
      "Epoch 82/100\n",
      "1/1 [==============================] - 1s 1s/step - loss: 68622.1406 - mean_squared_error: 68622.1406 - val_loss: 61649.0000 - val_mean_squared_error: 61649.0000\n",
      "Epoch 83/100\n",
      "1/1 [==============================] - 1s 984ms/step - loss: 67835.3594 - mean_squared_error: 67835.3594 - val_loss: 61669.4375 - val_mean_squared_error: 61669.4375\n",
      "Epoch 84/100\n",
      "1/1 [==============================] - 1s 991ms/step - loss: 66937.3828 - mean_squared_error: 66937.3828 - val_loss: 61706.2266 - val_mean_squared_error: 61706.2266\n",
      "Epoch 85/100\n",
      "1/1 [==============================] - 1s 976ms/step - loss: 65896.4219 - mean_squared_error: 65896.4219 - val_loss: 61715.7305 - val_mean_squared_error: 61715.7305\n",
      "Epoch 86/100\n",
      "1/1 [==============================] - 1s 984ms/step - loss: 64711.8672 - mean_squared_error: 64711.8672 - val_loss: 61652.4375 - val_mean_squared_error: 61652.4375\n",
      "Epoch 87/100\n",
      "1/1 [==============================] - 1s 1s/step - loss: 63379.5508 - mean_squared_error: 63379.5508 - val_loss: 61546.1719 - val_mean_squared_error: 61546.1719\n",
      "Epoch 88/100\n",
      "1/1 [==============================] - 1s 1s/step - loss: 61899.7422 - mean_squared_error: 61899.7422 - val_loss: 61411.9375 - val_mean_squared_error: 61411.9375\n",
      "Epoch 89/100\n",
      "1/1 [==============================] - 1s 1s/step - loss: 60262.0312 - mean_squared_error: 60262.0312 - val_loss: 61270.8164 - val_mean_squared_error: 61270.8164\n",
      "Epoch 90/100\n",
      "1/1 [==============================] - 1s 1s/step - loss: 58527.1836 - mean_squared_error: 58527.1836 - val_loss: 61247.4688 - val_mean_squared_error: 61247.4688\n",
      "Epoch 91/100\n",
      "1/1 [==============================] - 1s 1s/step - loss: 56631.3984 - mean_squared_error: 56631.3984 - val_loss: 61352.4375 - val_mean_squared_error: 61352.4375\n",
      "Epoch 92/100\n",
      "1/1 [==============================] - 1s 1000ms/step - loss: 54608.2773 - mean_squared_error: 54608.2773 - val_loss: 61690.7422 - val_mean_squared_error: 61690.7422\n",
      "Epoch 93/100\n"
     ]
    },
    {
     "name": "stdout",
     "output_type": "stream",
     "text": [
      "1/1 [==============================] - 1s 1s/step - loss: 52487.3945 - mean_squared_error: 52487.3945 - val_loss: 62219.3594 - val_mean_squared_error: 62219.3594\n",
      "Epoch 94/100\n",
      "1/1 [==============================] - 1s 1s/step - loss: 50302.0938 - mean_squared_error: 50302.0938 - val_loss: 62509.7109 - val_mean_squared_error: 62509.7109\n",
      "Epoch 95/100\n",
      "1/1 [==============================] - 1s 1s/step - loss: 48158.7891 - mean_squared_error: 48158.7891 - val_loss: 62271.1484 - val_mean_squared_error: 62271.1484\n",
      "Epoch 96/100\n",
      "1/1 [==============================] - 1s 1s/step - loss: 46131.2031 - mean_squared_error: 46131.2031 - val_loss: 61757.7344 - val_mean_squared_error: 61757.7344\n",
      "Epoch 97/100\n",
      "1/1 [==============================] - 1s 978ms/step - loss: 44269.4102 - mean_squared_error: 44269.4102 - val_loss: 61283.8672 - val_mean_squared_error: 61283.8672\n",
      "Epoch 98/100\n",
      "1/1 [==============================] - 1s 1s/step - loss: 42652.5938 - mean_squared_error: 42652.5938 - val_loss: 61432.7539 - val_mean_squared_error: 61432.7539\n",
      "Epoch 99/100\n",
      "1/1 [==============================] - 1s 1s/step - loss: 41170.3008 - mean_squared_error: 41170.3008 - val_loss: 62396.0000 - val_mean_squared_error: 62396.0000\n",
      "Epoch 100/100\n",
      "1/1 [==============================] - 1s 1s/step - loss: 39657.1641 - mean_squared_error: 39657.1641 - val_loss: 63572.1562 - val_mean_squared_error: 63572.1562\n"
     ]
    }
   ],
   "source": [
    "epoch_num=100\n",
    "history=model.fit(train_ds, validation_data=validation_ds, validation_steps=1, epochs=epoch_num)\n"
   ]
  },
  {
   "cell_type": "markdown",
   "id": "5ab85bbb",
   "metadata": {},
   "source": [
    "As you can see the errors are quite substantial. While the architecture might have some part to play in it, I suspect the lack of data is what is actually leading to such large errors, as such my next step would be data augmentation, in order to get a larger data set."
   ]
  },
  {
   "cell_type": "code",
   "execution_count": 18,
   "id": "d2b78cc5",
   "metadata": {},
   "outputs": [
    {
     "data": {
      "image/png": "[encoded data removed]",
      "text/plain": [
       "<Figure size 640x480 with 1 Axes>"
      ]
     },
     "metadata": {},
     "output_type": "display_data"
    }
   ],
   "source": [
    "\n",
    "\n",
    "plt.plot(history.history['loss'])\n",
    "plt.plot(history.history['val_loss'])\n",
    "plt.title('Bounding Box Loss')\n",
    "plt.ylabel('loss')\n",
    "plt.xlabel('epoch')\n",
    "plt.legend(['train', 'validation'], loc='upper left')\n",
    "plt.show()\n",
    "\n"
   ]
  },
  {
   "cell_type": "code",
   "execution_count": null,
   "id": "5c768d83",
   "metadata": {},
   "outputs": [],
   "source": []
  },
  {
   "cell_type": "code",
   "execution_count": null,
   "id": "8e12bce8",
   "metadata": {},
   "outputs": [],
   "source": []
  }
 ],
 "metadata": {
  "kernelspec": {
   "display_name": "didaStuff",
   "language": "python",
   "name": "didastuff"
  },
  "language_info": {
   "codemirror_mode": {
    "name": "ipython",
    "version": 3
   },
   "file_extension": ".py",
   "mimetype": "text/x-python",
   "name": "python",
   "nbconvert_exporter": "python",
   "pygments_lexer": "ipython3",
   "version": "3.9.12"
  }
 },
 "nbformat": 4,
 "nbformat_minor": 5
}
